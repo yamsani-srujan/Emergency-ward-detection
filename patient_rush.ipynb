{
 "cells": [
  {
   "cell_type": "markdown",
   "metadata": {},
   "source": [
    "## Importing the libraries"
   ]
  },
  {
   "cell_type": "code",
   "execution_count": 1,
   "metadata": {},
   "outputs": [
    {
     "name": "stdout",
     "output_type": "stream",
     "text": [
      "C:\\Users\\yamsa\\OneDrive\\Desktop\\emergency ward rush\n",
      "everything is checked.. system okay\n"
     ]
    }
   ],
   "source": [
    "import numpy as np\n",
    "import matplotlib.pyplot as plt\n",
    "import pandas as pd\n",
    "import systemcheck"
   ]
  },
  {
   "cell_type": "markdown",
   "metadata": {},
   "source": [
    "## Importing the training set"
   ]
  },
  {
   "cell_type": "code",
   "execution_count": 2,
   "metadata": {},
   "outputs": [],
   "source": [
    "dataset_train = pd.read_csv('yashoda_group_Train.csv')"
   ]
  },
  {
   "cell_type": "code",
   "execution_count": 3,
   "metadata": {},
   "outputs": [
    {
     "data": {
      "text/html": [
       "<div>\n",
       "<style scoped>\n",
       "    .dataframe tbody tr th:only-of-type {\n",
       "        vertical-align: middle;\n",
       "    }\n",
       "\n",
       "    .dataframe tbody tr th {\n",
       "        vertical-align: top;\n",
       "    }\n",
       "\n",
       "    .dataframe thead th {\n",
       "        text-align: right;\n",
       "    }\n",
       "</style>\n",
       "<table border=\"1\" class=\"dataframe\">\n",
       "  <thead>\n",
       "    <tr style=\"text-align: right;\">\n",
       "      <th></th>\n",
       "      <th>Date</th>\n",
       "      <th>average patient</th>\n",
       "    </tr>\n",
       "  </thead>\n",
       "  <tbody>\n",
       "    <tr>\n",
       "      <th>0</th>\n",
       "      <td>01-03-2012</td>\n",
       "      <td>325.25</td>\n",
       "    </tr>\n",
       "    <tr>\n",
       "      <th>1</th>\n",
       "      <td>01-04-2012</td>\n",
       "      <td>331.27</td>\n",
       "    </tr>\n",
       "    <tr>\n",
       "      <th>2</th>\n",
       "      <td>01-05-2012</td>\n",
       "      <td>329.83</td>\n",
       "    </tr>\n",
       "    <tr>\n",
       "      <th>3</th>\n",
       "      <td>01-06-2012</td>\n",
       "      <td>328.34</td>\n",
       "    </tr>\n",
       "    <tr>\n",
       "      <th>4</th>\n",
       "      <td>01-09-2012</td>\n",
       "      <td>322.04</td>\n",
       "    </tr>\n",
       "    <tr>\n",
       "      <th>...</th>\n",
       "      <td>...</td>\n",
       "      <td>...</td>\n",
       "    </tr>\n",
       "    <tr>\n",
       "      <th>1253</th>\n",
       "      <td>12/23/2016</td>\n",
       "      <td>790.90</td>\n",
       "    </tr>\n",
       "    <tr>\n",
       "      <th>1254</th>\n",
       "      <td>12/27/2016</td>\n",
       "      <td>790.68</td>\n",
       "    </tr>\n",
       "    <tr>\n",
       "      <th>1255</th>\n",
       "      <td>12/28/2016</td>\n",
       "      <td>793.70</td>\n",
       "    </tr>\n",
       "    <tr>\n",
       "      <th>1256</th>\n",
       "      <td>12/29/2016</td>\n",
       "      <td>783.33</td>\n",
       "    </tr>\n",
       "    <tr>\n",
       "      <th>1257</th>\n",
       "      <td>12/30/2016</td>\n",
       "      <td>782.75</td>\n",
       "    </tr>\n",
       "  </tbody>\n",
       "</table>\n",
       "<p>1258 rows × 2 columns</p>\n",
       "</div>"
      ],
      "text/plain": [
       "            Date  average patient\n",
       "0     01-03-2012           325.25\n",
       "1     01-04-2012           331.27\n",
       "2     01-05-2012           329.83\n",
       "3     01-06-2012           328.34\n",
       "4     01-09-2012           322.04\n",
       "...          ...              ...\n",
       "1253  12/23/2016           790.90\n",
       "1254  12/27/2016           790.68\n",
       "1255  12/28/2016           793.70\n",
       "1256  12/29/2016           783.33\n",
       "1257  12/30/2016           782.75\n",
       "\n",
       "[1258 rows x 2 columns]"
      ]
     },
     "execution_count": 3,
     "metadata": {},
     "output_type": "execute_result"
    }
   ],
   "source": [
    "dataset_train"
   ]
  },
  {
   "cell_type": "code",
   "execution_count": 4,
   "metadata": {},
   "outputs": [
    {
     "name": "stdout",
     "output_type": "stream",
     "text": [
      "<class 'pandas.core.frame.DataFrame'>\n",
      "RangeIndex: 1258 entries, 0 to 1257\n",
      "Data columns (total 2 columns):\n",
      " #   Column           Non-Null Count  Dtype  \n",
      "---  ------           --------------  -----  \n",
      " 0   Date             1258 non-null   object \n",
      " 1   average patient  1258 non-null   float64\n",
      "dtypes: float64(1), object(1)\n",
      "memory usage: 19.8+ KB\n"
     ]
    }
   ],
   "source": [
    "dataset_train.info()"
   ]
  },
  {
   "cell_type": "code",
   "execution_count": 5,
   "metadata": {},
   "outputs": [
    {
     "data": {
      "text/plain": [
       "Date               0\n",
       "average patient    0\n",
       "dtype: int64"
      ]
     },
     "execution_count": 5,
     "metadata": {},
     "output_type": "execute_result"
    }
   ],
   "source": [
    "dataset_train.isna().sum()"
   ]
  },
  {
   "cell_type": "code",
   "execution_count": 6,
   "metadata": {},
   "outputs": [
    {
     "data": {
      "text/html": [
       "<div>\n",
       "<style scoped>\n",
       "    .dataframe tbody tr th:only-of-type {\n",
       "        vertical-align: middle;\n",
       "    }\n",
       "\n",
       "    .dataframe tbody tr th {\n",
       "        vertical-align: top;\n",
       "    }\n",
       "\n",
       "    .dataframe thead th {\n",
       "        text-align: right;\n",
       "    }\n",
       "</style>\n",
       "<table border=\"1\" class=\"dataframe\">\n",
       "  <thead>\n",
       "    <tr style=\"text-align: right;\">\n",
       "      <th></th>\n",
       "      <th>average patient</th>\n",
       "    </tr>\n",
       "  </thead>\n",
       "  <tbody>\n",
       "    <tr>\n",
       "      <th>count</th>\n",
       "      <td>1258.000000</td>\n",
       "    </tr>\n",
       "    <tr>\n",
       "      <th>mean</th>\n",
       "      <td>533.709833</td>\n",
       "    </tr>\n",
       "    <tr>\n",
       "      <th>std</th>\n",
       "      <td>151.904442</td>\n",
       "    </tr>\n",
       "    <tr>\n",
       "      <th>min</th>\n",
       "      <td>279.120000</td>\n",
       "    </tr>\n",
       "    <tr>\n",
       "      <th>25%</th>\n",
       "      <td>404.115000</td>\n",
       "    </tr>\n",
       "    <tr>\n",
       "      <th>50%</th>\n",
       "      <td>537.470000</td>\n",
       "    </tr>\n",
       "    <tr>\n",
       "      <th>75%</th>\n",
       "      <td>654.922500</td>\n",
       "    </tr>\n",
       "    <tr>\n",
       "      <th>max</th>\n",
       "      <td>816.680000</td>\n",
       "    </tr>\n",
       "  </tbody>\n",
       "</table>\n",
       "</div>"
      ],
      "text/plain": [
       "       average patient\n",
       "count      1258.000000\n",
       "mean        533.709833\n",
       "std         151.904442\n",
       "min         279.120000\n",
       "25%         404.115000\n",
       "50%         537.470000\n",
       "75%         654.922500\n",
       "max         816.680000"
      ]
     },
     "execution_count": 6,
     "metadata": {},
     "output_type": "execute_result"
    }
   ],
   "source": [
    "dataset_train.describe()"
   ]
  },
  {
   "cell_type": "code",
   "execution_count": 7,
   "metadata": {},
   "outputs": [
    {
     "data": {
      "image/png": "[encoded data removed]",
      "text/plain": [
       "<Figure size 648x504 with 1 Axes>"
      ]
     },
     "metadata": {
      "needs_background": "light"
     },
     "output_type": "display_data"
    }
   ],
   "source": [
    "dataset_train.hist(figsize = (9,7))\n",
    "plt.show()"
   ]
  },
  {
   "cell_type": "code",
   "execution_count": 8,
   "metadata": {},
   "outputs": [
    {
     "data": {
      "image/png": "[encoded data removed]",
      "text/plain": [
       "<Figure size 1440x720 with 1 Axes>"
      ]
     },
     "metadata": {
      "needs_background": "light"
     },
     "output_type": "display_data"
    }
   ],
   "source": [
    "plt.figure(figsize=(20,10))\n",
    "plt.plot(dataset_train['average patient'])\n",
    "plt.tight_layout()\n",
    "plt.xlabel(\"date [jan 2012 - dec 2106] \")\n",
    "plt.ylabel(\"average patient\")\n",
    "plt.show()"
   ]
  },
  {
   "cell_type": "code",
   "execution_count": 9,
   "metadata": {},
   "outputs": [],
   "source": [
    "training_set = dataset_train.iloc[:,1].values"
   ]
  },
  {
   "cell_type": "code",
   "execution_count": 10,
   "metadata": {},
   "outputs": [
    {
     "data": {
      "text/plain": [
       "array([325.25, 331.27, 329.83, ..., 793.7 , 783.33, 782.75])"
      ]
     },
     "execution_count": 10,
     "metadata": {},
     "output_type": "execute_result"
    }
   ],
   "source": [
    "training_set"
   ]
  },
  {
   "cell_type": "markdown",
   "metadata": {},
   "source": [
    "## Feature Scaling"
   ]
  },
  {
   "cell_type": "code",
   "execution_count": 11,
   "metadata": {},
   "outputs": [],
   "source": [
    "from sklearn.preprocessing import MinMaxScaler\n",
    "sc = MinMaxScaler(feature_range = (0, 1))\n",
    "training_set_scaled = sc.fit_transform(training_set.reshape(-1, 1))"
   ]
  },
  {
   "cell_type": "code",
   "execution_count": 12,
   "metadata": {},
   "outputs": [
    {
     "data": {
      "text/plain": [
       "array([[0.08581368],\n",
       "       [0.09701243],\n",
       "       [0.09433366],\n",
       "       ...,\n",
       "       [0.95725128],\n",
       "       [0.93796041],\n",
       "       [0.93688146]])"
      ]
     },
     "execution_count": 12,
     "metadata": {},
     "output_type": "execute_result"
    }
   ],
   "source": [
    "training_set_scaled"
   ]
  },
  {
   "cell_type": "code",
   "execution_count": 13,
   "metadata": {},
   "outputs": [
    {
     "data": {
      "text/plain": [
       "array([0.08581368, 0.09701243, 0.09433366, 0.09156187, 0.07984225,\n",
       "       0.0643277 , 0.0585423 , 0.06568569, 0.06109085, 0.06639259,\n",
       "       0.0614257 , 0.07474514, 0.02797827, 0.02379269, 0.02409033,\n",
       "       0.0159238 , 0.01078949, 0.00967334, 0.01642607, 0.02100231,\n",
       "       0.02280676, 0.02273235, 0.02810849, 0.03212665, 0.0433812 ,\n",
       "       0.04475779, 0.04790163, 0.0440695 , 0.04648783, 0.04745517,\n",
       "       0.04873875, 0.03936305, 0.04137213, 0.04034898, 0.04784582,\n",
       "       0.04325099, 0.04356723, 0.04286033, 0.04602277, 0.05398467,\n",
       "       0.05738894, 0.05714711, 0.05569611, 0.04421832, 0.04514845,\n",
       "       0.04605997, 0.04412531, 0.03675869, 0.04486941, 0.05065481,\n",
       "       0.05214302, 0.05612397, 0.05818885, 0.06540665, 0.06882953,\n",
       "       0.07243843, 0.07993526, 0.07846566, 0.08034452, 0.08497656])"
      ]
     },
     "execution_count": 13,
     "metadata": {},
     "output_type": "execute_result"
    }
   ],
   "source": [
    "training_set_scaled[0:60,0]"
   ]
  },
  {
   "cell_type": "markdown",
   "metadata": {},
   "source": [
    "## Creating a data structure with 60 timesteps and 1 output"
   ]
  },
  {
   "cell_type": "code",
   "execution_count": 14,
   "metadata": {},
   "outputs": [],
   "source": [
    "X_train = []\n",
    "y_train = []\n",
    "for i in range(60, 1258):\n",
    "    X_train.append(training_set_scaled[i-60:i, 0])\n",
    "    y_train.append(training_set_scaled[i, 0])\n",
    "X_train, y_train = np.array(X_train), np.array(y_train)"
   ]
  },
  {
   "cell_type": "code",
   "execution_count": 15,
   "metadata": {},
   "outputs": [
    {
     "data": {
      "text/plain": [
       "array([[0.08581368, 0.09701243, 0.09433366, ..., 0.07846566, 0.08034452,\n",
       "        0.08497656],\n",
       "       [0.09701243, 0.09433366, 0.09156187, ..., 0.08034452, 0.08497656,\n",
       "        0.08627874],\n",
       "       [0.09433366, 0.09156187, 0.07984225, ..., 0.08497656, 0.08627874,\n",
       "        0.08471612],\n",
       "       ...,\n",
       "       [0.92106928, 0.92438053, 0.93048218, ..., 0.95475854, 0.95204256,\n",
       "        0.95163331],\n",
       "       [0.92438053, 0.93048218, 0.9299055 , ..., 0.95204256, 0.95163331,\n",
       "        0.95725128],\n",
       "       [0.93048218, 0.9299055 , 0.93113327, ..., 0.95163331, 0.95725128,\n",
       "        0.93796041]])"
      ]
     },
     "execution_count": 15,
     "metadata": {},
     "output_type": "execute_result"
    }
   ],
   "source": [
    "X_train"
   ]
  },
  {
   "cell_type": "code",
   "execution_count": 16,
   "metadata": {},
   "outputs": [
    {
     "data": {
      "text/plain": [
       "(1198, 60)"
      ]
     },
     "execution_count": 16,
     "metadata": {},
     "output_type": "execute_result"
    }
   ],
   "source": [
    "X_train.shape"
   ]
  },
  {
   "cell_type": "code",
   "execution_count": 17,
   "metadata": {},
   "outputs": [
    {
     "data": {
      "text/plain": [
       "array([0.08627874, 0.08471612, 0.07454052, ..., 0.95725128, 0.93796041,\n",
       "       0.93688146])"
      ]
     },
     "execution_count": 17,
     "metadata": {},
     "output_type": "execute_result"
    }
   ],
   "source": [
    "y_train"
   ]
  },
  {
   "cell_type": "code",
   "execution_count": 18,
   "metadata": {},
   "outputs": [
    {
     "data": {
      "text/plain": [
       "(1198,)"
      ]
     },
     "execution_count": 18,
     "metadata": {},
     "output_type": "execute_result"
    }
   ],
   "source": [
    "y_train.shape"
   ]
  },
  {
   "cell_type": "markdown",
   "metadata": {},
   "source": [
    "## Reshaping"
   ]
  },
  {
   "cell_type": "code",
   "execution_count": 19,
   "metadata": {},
   "outputs": [],
   "source": [
    "X_train = np.reshape(X_train, (X_train.shape[0], X_train.shape[1], 1))"
   ]
  },
  {
   "cell_type": "code",
   "execution_count": 20,
   "metadata": {},
   "outputs": [
    {
     "data": {
      "text/plain": [
       "array([[[0.08581368],\n",
       "        [0.09701243],\n",
       "        [0.09433366],\n",
       "        ...,\n",
       "        [0.07846566],\n",
       "        [0.08034452],\n",
       "        [0.08497656]],\n",
       "\n",
       "       [[0.09701243],\n",
       "        [0.09433366],\n",
       "        [0.09156187],\n",
       "        ...,\n",
       "        [0.08034452],\n",
       "        [0.08497656],\n",
       "        [0.08627874]],\n",
       "\n",
       "       [[0.09433366],\n",
       "        [0.09156187],\n",
       "        [0.07984225],\n",
       "        ...,\n",
       "        [0.08497656],\n",
       "        [0.08627874],\n",
       "        [0.08471612]],\n",
       "\n",
       "       ...,\n",
       "\n",
       "       [[0.92106928],\n",
       "        [0.92438053],\n",
       "        [0.93048218],\n",
       "        ...,\n",
       "        [0.95475854],\n",
       "        [0.95204256],\n",
       "        [0.95163331]],\n",
       "\n",
       "       [[0.92438053],\n",
       "        [0.93048218],\n",
       "        [0.9299055 ],\n",
       "        ...,\n",
       "        [0.95204256],\n",
       "        [0.95163331],\n",
       "        [0.95725128]],\n",
       "\n",
       "       [[0.93048218],\n",
       "        [0.9299055 ],\n",
       "        [0.93113327],\n",
       "        ...,\n",
       "        [0.95163331],\n",
       "        [0.95725128],\n",
       "        [0.93796041]]])"
      ]
     },
     "execution_count": 20,
     "metadata": {},
     "output_type": "execute_result"
    }
   ],
   "source": [
    "X_train"
   ]
  },
  {
   "cell_type": "code",
   "execution_count": 21,
   "metadata": {},
   "outputs": [
    {
     "data": {
      "text/plain": [
       "(1198, 60, 1)"
      ]
     },
     "execution_count": 21,
     "metadata": {},
     "output_type": "execute_result"
    }
   ],
   "source": [
    "X_train.shape"
   ]
  },
  {
   "cell_type": "markdown",
   "metadata": {},
   "source": [
    "# Part 2 - Building the RNN\n",
    "### Importing the Keras libraries and packages"
   ]
  },
  {
   "cell_type": "code",
   "execution_count": 22,
   "metadata": {},
   "outputs": [],
   "source": [
    "from tensorflow.keras.models import Sequential\n",
    "from tensorflow.keras.layers import Dense,Dropout,LSTM"
   ]
  },
  {
   "cell_type": "markdown",
   "metadata": {},
   "source": [
    "### Initialising the RNN"
   ]
  },
  {
   "cell_type": "code",
   "execution_count": 23,
   "metadata": {},
   "outputs": [],
   "source": [
    "regressor = Sequential()"
   ]
  },
  {
   "cell_type": "markdown",
   "metadata": {},
   "source": [
    "### Adding the first LSTM layer and some Dropout regularisation"
   ]
  },
  {
   "cell_type": "code",
   "execution_count": 24,
   "metadata": {},
   "outputs": [],
   "source": [
    "regressor.add(LSTM(units = 100, return_sequences = True, input_shape = (X_train.shape[1], 1)))\n",
    "# regressor.add(Dropout(0.2))"
   ]
  },
  {
   "cell_type": "markdown",
   "metadata": {},
   "source": [
    "### Adding a second LSTM layer and some Dropout regularisation"
   ]
  },
  {
   "cell_type": "code",
   "execution_count": 25,
   "metadata": {},
   "outputs": [],
   "source": [
    "regressor.add(LSTM(units = 70, return_sequences = True))\n",
    "regressor.add(Dropout(0.2))"
   ]
  },
  {
   "cell_type": "markdown",
   "metadata": {},
   "source": [
    "### Adding a third LSTM layer and some Dropout regularisation"
   ]
  },
  {
   "cell_type": "code",
   "execution_count": 26,
   "metadata": {},
   "outputs": [],
   "source": [
    "regressor.add(LSTM(units = 50, return_sequences = True))\n",
    "regressor.add(Dropout(0.2))"
   ]
  },
  {
   "cell_type": "markdown",
   "metadata": {},
   "source": [
    "### Adding a fourth LSTM layer and some Dropout regularisation"
   ]
  },
  {
   "cell_type": "code",
   "execution_count": 27,
   "metadata": {},
   "outputs": [],
   "source": [
    "regressor.add(LSTM(units = 30))\n",
    "regressor.add(Dropout(0.2))"
   ]
  },
  {
   "cell_type": "markdown",
   "metadata": {},
   "source": [
    "### Adding the output layer"
   ]
  },
  {
   "cell_type": "code",
   "execution_count": 28,
   "metadata": {},
   "outputs": [],
   "source": [
    "regressor.add(Dense(units = 1))"
   ]
  },
  {
   "cell_type": "markdown",
   "metadata": {},
   "source": [
    "### Compiling the RNN"
   ]
  },
  {
   "cell_type": "code",
   "execution_count": 29,
   "metadata": {},
   "outputs": [],
   "source": [
    "regressor.compile(optimizer = 'adam', loss = 'mean_squared_error')"
   ]
  },
  {
   "cell_type": "markdown",
   "metadata": {},
   "source": [
    "### Fitting the RNN to the Training set"
   ]
  },
  {
   "cell_type": "code",
   "execution_count": 30,
   "metadata": {},
   "outputs": [
    {
     "name": "stdout",
     "output_type": "stream",
     "text": [
      "Epoch 1/100\n",
      "38/38 [==============================] - 8s 60ms/step - loss: 0.0414\n",
      "Epoch 2/100\n",
      "38/38 [==============================] - 2s 59ms/step - loss: 0.0074\n",
      "Epoch 3/100\n",
      "38/38 [==============================] - 2s 60ms/step - loss: 0.0065\n",
      "Epoch 4/100\n",
      "38/38 [==============================] - 2s 59ms/step - loss: 0.0058\n",
      "Epoch 5/100\n",
      "38/38 [==============================] - 2s 58ms/step - loss: 0.0058\n",
      "Epoch 6/100\n",
      "38/38 [==============================] - 2s 59ms/step - loss: 0.0056\n",
      "Epoch 7/100\n",
      "38/38 [==============================] - 2s 60ms/step - loss: 0.0056\n",
      "Epoch 8/100\n",
      "38/38 [==============================] - 2s 59ms/step - loss: 0.0050\n",
      "Epoch 9/100\n",
      "38/38 [==============================] - 2s 60ms/step - loss: 0.0047\n",
      "Epoch 10/100\n",
      "38/38 [==============================] - 2s 60ms/step - loss: 0.0045\n",
      "Epoch 11/100\n",
      "38/38 [==============================] - 2s 62ms/step - loss: 0.0043\n",
      "Epoch 12/100\n",
      "38/38 [==============================] - 2s 60ms/step - loss: 0.0051: 1s - - ETA: 0\n",
      "Epoch 13/100\n",
      "38/38 [==============================] - 2s 60ms/step - loss: 0.0052\n",
      "Epoch 14/100\n",
      "38/38 [==============================] - 2s 59ms/step - loss: 0.0042\n",
      "Epoch 15/100\n",
      "38/38 [==============================] - 2s 59ms/step - loss: 0.0050\n",
      "Epoch 16/100\n",
      "38/38 [==============================] - 2s 59ms/step - loss: 0.0042\n",
      "Epoch 17/100\n",
      "38/38 [==============================] - 2s 59ms/step - loss: 0.0045\n",
      "Epoch 18/100\n",
      "38/38 [==============================] - 2s 60ms/step - loss: 0.0049: 0s - loss: 0.\n",
      "Epoch 19/100\n",
      "38/38 [==============================] - 2s 59ms/step - loss: 0.0041\n",
      "Epoch 20/100\n",
      "38/38 [==============================] - 2s 59ms/step - loss: 0.0038\n",
      "Epoch 21/100\n",
      "38/38 [==============================] - 2s 60ms/step - loss: 0.0040\n",
      "Epoch 22/100\n",
      "38/38 [==============================] - 2s 59ms/step - loss: 0.0044\n",
      "Epoch 23/100\n",
      "38/38 [==============================] - 2s 59ms/step - loss: 0.0041\n",
      "Epoch 24/100\n",
      "38/38 [==============================] - 2s 59ms/step - loss: 0.0038\n",
      "Epoch 25/100\n",
      "38/38 [==============================] - 2s 58ms/step - loss: 0.0036: 0s -\n",
      "Epoch 26/100\n",
      "38/38 [==============================] - 2s 59ms/step - loss: 0.0039\n",
      "Epoch 27/100\n",
      "38/38 [==============================] - 2s 59ms/step - loss: 0.0042\n",
      "Epoch 28/100\n",
      "38/38 [==============================] - 2s 58ms/step - loss: 0.0036\n",
      "Epoch 29/100\n",
      "38/38 [==============================] - 2s 59ms/step - loss: 0.0034\n",
      "Epoch 30/100\n",
      "38/38 [==============================] - 2s 59ms/step - loss: 0.0033\n",
      "Epoch 31/100\n",
      "38/38 [==============================] - 2s 59ms/step - loss: 0.0030\n",
      "Epoch 32/100\n",
      "38/38 [==============================] - 2s 59ms/step - loss: 0.0036: 0s - l\n",
      "Epoch 33/100\n",
      "38/38 [==============================] - 2s 59ms/step - loss: 0.0039\n",
      "Epoch 34/100\n",
      "38/38 [==============================] - 2s 59ms/step - loss: 0.0034\n",
      "Epoch 35/100\n",
      "38/38 [==============================] - 2s 59ms/step - loss: 0.0033\n",
      "Epoch 36/100\n",
      "38/38 [==============================] - 2s 59ms/step - loss: 0.0031\n",
      "Epoch 37/100\n",
      "38/38 [==============================] - 2s 59ms/step - loss: 0.0028\n",
      "Epoch 38/100\n",
      "38/38 [==============================] - 2s 59ms/step - loss: 0.0029\n",
      "Epoch 39/100\n",
      "38/38 [==============================] - 2s 61ms/step - loss: 0.0030\n",
      "Epoch 40/100\n",
      "38/38 [==============================] - 2s 59ms/step - loss: 0.0031\n",
      "Epoch 41/100\n",
      "38/38 [==============================] - 2s 59ms/step - loss: 0.0029\n",
      "Epoch 42/100\n",
      "38/38 [==============================] - 2s 59ms/step - loss: 0.0032: 0s - loss:\n",
      "Epoch 43/100\n",
      "38/38 [==============================] - 2s 59ms/step - loss: 0.0029\n",
      "Epoch 44/100\n",
      "38/38 [==============================] - 2s 59ms/step - loss: 0.0027\n",
      "Epoch 45/100\n",
      "38/38 [==============================] - 2s 59ms/step - loss: 0.0026\n",
      "Epoch 46/100\n",
      "38/38 [==============================] - 2s 58ms/step - loss: 0.0032\n",
      "Epoch 47/100\n",
      "38/38 [==============================] - 2s 59ms/step - loss: 0.0028\n",
      "Epoch 48/100\n",
      "38/38 [==============================] - 2s 59ms/step - loss: 0.0025\n",
      "Epoch 49/100\n",
      "38/38 [==============================] - 2s 59ms/step - loss: 0.0030\n",
      "Epoch 50/100\n",
      "38/38 [==============================] - 2s 59ms/step - loss: 0.0025\n",
      "Epoch 51/100\n",
      "38/38 [==============================] - 2s 59ms/step - loss: 0.0024\n",
      "Epoch 52/100\n",
      "38/38 [==============================] - 2s 59ms/step - loss: 0.0022\n",
      "Epoch 53/100\n",
      "38/38 [==============================] - 2s 59ms/step - loss: 0.0024\n",
      "Epoch 54/100\n",
      "38/38 [==============================] - 2s 59ms/step - loss: 0.0023\n",
      "Epoch 55/100\n",
      "38/38 [==============================] - 2s 58ms/step - loss: 0.0023\n",
      "Epoch 56/100\n",
      "38/38 [==============================] - 2s 60ms/step - loss: 0.0023\n",
      "Epoch 57/100\n",
      "38/38 [==============================] - 2s 60ms/step - loss: 0.0025\n",
      "Epoch 58/100\n",
      "38/38 [==============================] - 2s 60ms/step - loss: 0.0019\n",
      "Epoch 59/100\n",
      "38/38 [==============================] - 2s 61ms/step - loss: 0.0021\n",
      "Epoch 60/100\n",
      "38/38 [==============================] - 2s 60ms/step - loss: 0.0023\n",
      "Epoch 61/100\n",
      "38/38 [==============================] - 2s 61ms/step - loss: 0.0023\n",
      "Epoch 62/100\n",
      "38/38 [==============================] - 2s 62ms/step - loss: 0.0020\n",
      "Epoch 63/100\n",
      "38/38 [==============================] - 2s 60ms/step - loss: 0.0021\n",
      "Epoch 64/100\n",
      "38/38 [==============================] - 2s 59ms/step - loss: 0.0020\n",
      "Epoch 65/100\n",
      "38/38 [==============================] - 2s 59ms/step - loss: 0.0020\n",
      "Epoch 66/100\n",
      "38/38 [==============================] - 2s 60ms/step - loss: 0.0024\n",
      "Epoch 67/100\n",
      "38/38 [==============================] - 2s 59ms/step - loss: 0.0020\n",
      "Epoch 68/100\n",
      "38/38 [==============================] - 2s 60ms/step - loss: 0.0019\n",
      "Epoch 69/100\n",
      "38/38 [==============================] - 2s 60ms/step - loss: 0.0018\n",
      "Epoch 70/100\n",
      "38/38 [==============================] - 2s 60ms/step - loss: 0.0021: 0s - loss: 0.002 - ETA: 0s - loss: 0.\n",
      "Epoch 71/100\n",
      "38/38 [==============================] - 2s 59ms/step - loss: 0.0018\n",
      "Epoch 72/100\n",
      "38/38 [==============================] - 2s 61ms/step - loss: 0.0018\n",
      "Epoch 73/100\n",
      "38/38 [==============================] - 2s 59ms/step - loss: 0.0017\n",
      "Epoch 74/100\n",
      "38/38 [==============================] - 2s 60ms/step - loss: 0.0016\n",
      "Epoch 75/100\n",
      "38/38 [==============================] - 2s 59ms/step - loss: 0.0017\n",
      "Epoch 76/100\n",
      "38/38 [==============================] - 2s 59ms/step - loss: 0.0018\n",
      "Epoch 77/100\n",
      "38/38 [==============================] - 2s 59ms/step - loss: 0.0016\n",
      "Epoch 78/100\n",
      "38/38 [==============================] - 2s 58ms/step - loss: 0.0019\n",
      "Epoch 79/100\n",
      "38/38 [==============================] - 2s 59ms/step - loss: 0.0016\n",
      "Epoch 80/100\n",
      "38/38 [==============================] - 2s 59ms/step - loss: 0.0016\n",
      "Epoch 81/100\n",
      "38/38 [==============================] - 2s 59ms/step - loss: 0.0017\n",
      "Epoch 82/100\n",
      "38/38 [==============================] - 2s 59ms/step - loss: 0.0016\n",
      "Epoch 83/100\n",
      "38/38 [==============================] - 2s 59ms/step - loss: 0.0015\n",
      "Epoch 84/100\n",
      "38/38 [==============================] - 2s 59ms/step - loss: 0.0018\n",
      "Epoch 85/100\n",
      "38/38 [==============================] - 2s 59ms/step - loss: 0.0017\n",
      "Epoch 86/100\n",
      "38/38 [==============================] - 2s 59ms/step - loss: 0.0015\n",
      "Epoch 87/100\n",
      "38/38 [==============================] - 2s 59ms/step - loss: 0.0014\n",
      "Epoch 88/100\n",
      "38/38 [==============================] - 2s 59ms/step - loss: 0.0017\n",
      "Epoch 89/100\n",
      "38/38 [==============================] - 2s 59ms/step - loss: 0.0014\n",
      "Epoch 90/100\n",
      "38/38 [==============================] - 2s 59ms/step - loss: 0.0016\n",
      "Epoch 91/100\n",
      "38/38 [==============================] - 2s 59ms/step - loss: 0.0014\n",
      "Epoch 92/100\n",
      "38/38 [==============================] - 2s 59ms/step - loss: 0.0014\n",
      "Epoch 93/100\n",
      "38/38 [==============================] - 2s 59ms/step - loss: 0.0015\n",
      "Epoch 94/100\n",
      "38/38 [==============================] - 2s 59ms/step - loss: 0.0014\n",
      "Epoch 95/100\n",
      "38/38 [==============================] - 2s 59ms/step - loss: 0.0014\n",
      "Epoch 96/100\n",
      "38/38 [==============================] - 2s 59ms/step - loss: 0.0016\n",
      "Epoch 97/100\n",
      "38/38 [==============================] - 2s 59ms/step - loss: 0.0014\n",
      "Epoch 98/100\n",
      "38/38 [==============================] - 2s 59ms/step - loss: 0.0014\n",
      "Epoch 99/100\n",
      "38/38 [==============================] - 2s 59ms/step - loss: 0.0015\n",
      "Epoch 100/100\n",
      "38/38 [==============================] - 2s 60ms/step - loss: 0.0013\n"
     ]
    },
    {
     "data": {
      "text/plain": [
       "<tensorflow.python.keras.callbacks.History at 0x1900276de80>"
      ]
     },
     "execution_count": 30,
     "metadata": {},
     "output_type": "execute_result"
    }
   ],
   "source": [
    "regressor.fit(X_train, y_train, epochs = 100, batch_size = 32)"
   ]
  },
  {
   "cell_type": "markdown",
   "metadata": {},
   "source": [
    "# Part 3 - Making the predictions and visualising the results"
   ]
  },
  {
   "cell_type": "markdown",
   "metadata": {},
   "source": [
    "## loading the testing data"
   ]
  },
  {
   "cell_type": "code",
   "execution_count": 31,
   "metadata": {},
   "outputs": [],
   "source": [
    "dataset_test = pd.read_csv('yashoda_group_Test.csv')\n",
    "real_average_patient = dataset_test.iloc[:, 1].values"
   ]
  },
  {
   "cell_type": "code",
   "execution_count": 32,
   "metadata": {},
   "outputs": [
    {
     "data": {
      "text/html": [
       "<div>\n",
       "<style scoped>\n",
       "    .dataframe tbody tr th:only-of-type {\n",
       "        vertical-align: middle;\n",
       "    }\n",
       "\n",
       "    .dataframe tbody tr th {\n",
       "        vertical-align: top;\n",
       "    }\n",
       "\n",
       "    .dataframe thead th {\n",
       "        text-align: right;\n",
       "    }\n",
       "</style>\n",
       "<table border=\"1\" class=\"dataframe\">\n",
       "  <thead>\n",
       "    <tr style=\"text-align: right;\">\n",
       "      <th></th>\n",
       "      <th>Date</th>\n",
       "      <th>average patient</th>\n",
       "    </tr>\n",
       "  </thead>\n",
       "  <tbody>\n",
       "    <tr>\n",
       "      <th>0</th>\n",
       "      <td>01-03-2017</td>\n",
       "      <td>778.81</td>\n",
       "    </tr>\n",
       "    <tr>\n",
       "      <th>1</th>\n",
       "      <td>01-04-2017</td>\n",
       "      <td>788.36</td>\n",
       "    </tr>\n",
       "    <tr>\n",
       "      <th>2</th>\n",
       "      <td>01-05-2017</td>\n",
       "      <td>786.08</td>\n",
       "    </tr>\n",
       "    <tr>\n",
       "      <th>3</th>\n",
       "      <td>01-06-2017</td>\n",
       "      <td>795.26</td>\n",
       "    </tr>\n",
       "    <tr>\n",
       "      <th>4</th>\n",
       "      <td>01-09-2017</td>\n",
       "      <td>806.40</td>\n",
       "    </tr>\n",
       "    <tr>\n",
       "      <th>5</th>\n",
       "      <td>01-10-2017</td>\n",
       "      <td>807.86</td>\n",
       "    </tr>\n",
       "    <tr>\n",
       "      <th>6</th>\n",
       "      <td>01-11-2017</td>\n",
       "      <td>805.00</td>\n",
       "    </tr>\n",
       "    <tr>\n",
       "      <th>7</th>\n",
       "      <td>01-12-2017</td>\n",
       "      <td>807.14</td>\n",
       "    </tr>\n",
       "    <tr>\n",
       "      <th>8</th>\n",
       "      <td>1/13/2017</td>\n",
       "      <td>807.48</td>\n",
       "    </tr>\n",
       "    <tr>\n",
       "      <th>9</th>\n",
       "      <td>1/17/2017</td>\n",
       "      <td>807.08</td>\n",
       "    </tr>\n",
       "    <tr>\n",
       "      <th>10</th>\n",
       "      <td>1/18/2017</td>\n",
       "      <td>805.81</td>\n",
       "    </tr>\n",
       "    <tr>\n",
       "      <th>11</th>\n",
       "      <td>1/19/2017</td>\n",
       "      <td>805.12</td>\n",
       "    </tr>\n",
       "    <tr>\n",
       "      <th>12</th>\n",
       "      <td>1/20/2017</td>\n",
       "      <td>806.91</td>\n",
       "    </tr>\n",
       "    <tr>\n",
       "      <th>13</th>\n",
       "      <td>1/23/2017</td>\n",
       "      <td>807.25</td>\n",
       "    </tr>\n",
       "    <tr>\n",
       "      <th>14</th>\n",
       "      <td>1/24/2017</td>\n",
       "      <td>822.30</td>\n",
       "    </tr>\n",
       "    <tr>\n",
       "      <th>15</th>\n",
       "      <td>1/25/2017</td>\n",
       "      <td>829.62</td>\n",
       "    </tr>\n",
       "    <tr>\n",
       "      <th>16</th>\n",
       "      <td>1/26/2017</td>\n",
       "      <td>837.81</td>\n",
       "    </tr>\n",
       "    <tr>\n",
       "      <th>17</th>\n",
       "      <td>1/27/2017</td>\n",
       "      <td>834.71</td>\n",
       "    </tr>\n",
       "    <tr>\n",
       "      <th>18</th>\n",
       "      <td>1/30/2017</td>\n",
       "      <td>814.66</td>\n",
       "    </tr>\n",
       "    <tr>\n",
       "      <th>19</th>\n",
       "      <td>1/31/2017</td>\n",
       "      <td>796.86</td>\n",
       "    </tr>\n",
       "  </tbody>\n",
       "</table>\n",
       "</div>"
      ],
      "text/plain": [
       "          Date  average patient\n",
       "0   01-03-2017           778.81\n",
       "1   01-04-2017           788.36\n",
       "2   01-05-2017           786.08\n",
       "3   01-06-2017           795.26\n",
       "4   01-09-2017           806.40\n",
       "5   01-10-2017           807.86\n",
       "6   01-11-2017           805.00\n",
       "7   01-12-2017           807.14\n",
       "8    1/13/2017           807.48\n",
       "9    1/17/2017           807.08\n",
       "10   1/18/2017           805.81\n",
       "11   1/19/2017           805.12\n",
       "12   1/20/2017           806.91\n",
       "13   1/23/2017           807.25\n",
       "14   1/24/2017           822.30\n",
       "15   1/25/2017           829.62\n",
       "16   1/26/2017           837.81\n",
       "17   1/27/2017           834.71\n",
       "18   1/30/2017           814.66\n",
       "19   1/31/2017           796.86"
      ]
     },
     "execution_count": 32,
     "metadata": {},
     "output_type": "execute_result"
    }
   ],
   "source": [
    "dataset_test"
   ]
  },
  {
   "cell_type": "markdown",
   "metadata": {},
   "source": [
    "# Predicting the Average Patient"
   ]
  },
  {
   "cell_type": "code",
   "execution_count": 33,
   "metadata": {},
   "outputs": [
    {
     "name": "stdout",
     "output_type": "stream",
     "text": [
      "percentage error: 0.009848907360852047\n"
     ]
    }
   ],
   "source": [
    "dataset_total = pd.concat((dataset_train['average patient'], dataset_test['average patient']), axis = 0)\n",
    "inputs = dataset_total[len(dataset_total) - len(dataset_test) - 60:].values\n",
    "inputs = inputs.reshape(-1,1)\n",
    "inputs = sc.transform(inputs)\n",
    "X_test = []\n",
    "for i in range(60, 80):\n",
    "    X_test.append(inputs[i-60:i, 0])\n",
    "X_test = np.array(X_test)\n",
    "X_test = np.reshape(X_test, (X_test.shape[0], X_test.shape[1], 1))\n",
    "predicted_average_patient = regressor.predict(X_test)\n",
    "predicted_average_patient = sc.inverse_transform(predicted_average_patient)\n",
    "from sklearn.metrics import mean_absolute_percentage_error\n",
    "print(f\"percentage error: {mean_absolute_percentage_error(real_average_patient,predicted_average_patient)}\")"
   ]
  },
  {
   "cell_type": "markdown",
   "metadata": {},
   "source": [
    "# Visualising the results"
   ]
  },
  {
   "cell_type": "code",
   "execution_count": 34,
   "metadata": {},
   "outputs": [
    {
     "data": {
      "image/png": "[encoded data removed]",
      "text/plain": [
       "<Figure size 432x288 with 1 Axes>"
      ]
     },
     "metadata": {
      "needs_background": "light"
     },
     "output_type": "display_data"
    }
   ],
   "source": [
    "plt.plot(real_average_patient, color = 'red', label = 'Real average patient')\n",
    "plt.plot(predicted_average_patient, color = 'blue', label = 'Predicted average patient')\n",
    "plt.title('Emergency Ward Rush Prediction')\n",
    "plt.xlabel('Time')\n",
    "plt.ylabel('patients')\n",
    "plt.legend()\n",
    "plt.show()"
   ]
  },
  {
   "cell_type": "code",
   "execution_count": null,
   "metadata": {},
   "outputs": [],
   "source": []
  }
 ],
 "metadata": {
  "kernelspec": {
   "display_name": "Python 3",
   "language": "python",
   "name": "python3"
  },
  "language_info": {
   "codemirror_mode": {
    "name": "ipython",
    "version": 3
   },
   "file_extension": ".py",
   "mimetype": "text/x-python",
   "name": "python",
   "nbconvert_exporter": "python",
   "pygments_lexer": "ipython3",
   "version": "3.8.6"
  }
 },
 "nbformat": 4,
 "nbformat_minor": 4
}
